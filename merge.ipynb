{
 "cells": [
  {
   "cell_type": "code",
   "execution_count": 25,
   "metadata": {},
   "outputs": [],
   "source": [
    "import numpy as np\n",
    "from scipy import linalg\n",
    "from time import time\n",
    "\n",
    "def logistic(x, y, num_iteration=1000, learning_rate=1e-3):\n",
    "    r, c = x.shape\n",
    "    p = c + 1\n",
    "    X = np.hstack((np.ones((r,1)), x))\n",
    "    beta = 2*np.random.randn(p, 1)-1\n",
    "    for i in range(num_iteration):\n",
    "        pr = sigmoid(X.dot(beta))\n",
    "        beta = beta + learning_rate* X.T.dot(y-pr)\n",
    "    return beta\n",
    "\n",
    "def logistic_polyak(X, y, num_iterations=1000, learning_rate=1e-2, momentum=0.9):\n",
    "    r, c = X.shape\n",
    "    X = np.hstack((np.ones((r, 1)), X))\n",
    "    beta = 2 * np.random.randn(c + 1, 1) - 1\n",
    "    velocity = np.zeros_like(beta)\n",
    "\n",
    "    for i in range(num_iterations):\n",
    "        predictions = sigmoid(X.dot(beta))\n",
    "        gradient = X.T.dot(y - predictions)\n",
    "        velocity = momentum * velocity + learning_rate * gradient\n",
    "        beta += velocity\n",
    "\n",
    "    return beta\n",
    "\n",
    "def logistic_nesterov(X, y, num_iterations=1000, learning_rate=1e-2, momentum=0.9):\n",
    "    r, c = X.shape\n",
    "    X = np.hstack((np.ones((r, 1)), X))\n",
    "    beta = 2 * np.random.randn(c + 1, 1) - 1\n",
    "    velocity = np.zeros_like(beta)\n",
    "\n",
    "    for i in range(num_iterations):\n",
    "        # Lookahead position\n",
    "        lookahead_beta = beta + momentum * velocity\n",
    "        predictions = sigmoid(X.dot(lookahead_beta))\n",
    "        gradient = X.T.dot(y - predictions)\n",
    "        velocity = momentum * velocity + learning_rate * gradient\n",
    "        beta += velocity\n",
    "\n",
    "    return beta\n",
    "\n",
    "def sigmoid(x):\n",
    "    return 1.0 / (1 + np.exp(-x))\n"
   ]
  },
  {
   "cell_type": "code",
   "execution_count": 10,
   "metadata": {},
   "outputs": [],
   "source": [
    "from sklearn.model_selection import train_test_split\n",
    "np.random.seed(42)\n",
    "from sklearn.datasets import load_breast_cancer\n",
    "data = load_breast_cancer()\n",
    "X = data.data\n",
    "y = data.target.reshape(-1, 1) "
   ]
  },
  {
   "cell_type": "code",
   "execution_count": 11,
   "metadata": {},
   "outputs": [],
   "source": [
    "Xtrain,Xtest,Ytrain,Ytest=train_test_split(X,y,train_size=0.8,random_state=True)"
   ]
  },
  {
   "cell_type": "code",
   "execution_count": 12,
   "metadata": {},
   "outputs": [],
   "source": [
    "from sklearn.preprocessing import StandardScaler\n",
    "scaler = StandardScaler()\n",
    "X_train_scaled = scaler.fit_transform(Xtrain)\n",
    "X_test_scaled = scaler.transform(Xtest)"
   ]
  },
  {
   "cell_type": "code",
   "execution_count": 36,
   "metadata": {},
   "outputs": [
    {
     "name": "stdout",
     "output_type": "stream",
     "text": [
      "0.03271222114562988\n",
      "0.022781848907470703\n",
      "0.017239093780517578\n",
      "Accuracy on test data: 0.98245614\n",
      "Accuracy on test data: 0.96491228\n",
      "Accuracy on test data: 0.96491228\n"
     ]
    }
   ],
   "source": [
    "def predict(x, beta, threshold=0.5):\n",
    "    X = np.hstack((np.ones((x.shape[0], 1)), x))\n",
    "    probabilities = sigmoid(X.dot(beta))\n",
    "    return (probabilities >= threshold).astype(int)\n",
    "start =time()\n",
    "logistic_beta = logistic(X_train_scaled, Ytrain)\n",
    "stop1 = time() - start\n",
    "print(stop1)\n",
    "start =time()\n",
    "nestorov_beta = logistic_nesterov(X_train_scaled, Ytrain)\n",
    "stop2 = time() - start\n",
    "print(stop2)\n",
    "start = time()\n",
    "polyak_beta = logistic_polyak(X_train_scaled, Ytrain)\n",
    "stop3 = time() - start\n",
    "print(stop3)\n",
    "Ypred = predict(X_test_scaled, logistic_beta)\n",
    "Ypred_nestorov = predict(X_test_scaled,nestorov_beta)\n",
    "Ypred_polyak = predict(X_test_scaled,polyak_beta)\n",
    "accuracy = np.mean(Ypred == Ytest)\n",
    "accuracy_nest = np.mean(Ypred_nestorov==Ytest)\n",
    "accuracy_pol = np.mean(Ypred_polyak==Ytest)\n",
    "print(f\"Accuracy on test data: {accuracy:.8f}\")\n",
    "print(f\"Accuracy on test data: {accuracy_nest:.8f}\")\n",
    "print(f\"Accuracy on test data: {accuracy_pol:.8f}\")"
   ]
  }
 ],
 "metadata": {
  "kernelspec": {
   "display_name": "learning",
   "language": "python",
   "name": "python3"
  },
  "language_info": {
   "codemirror_mode": {
    "name": "ipython",
    "version": 3
   },
   "file_extension": ".py",
   "mimetype": "text/x-python",
   "name": "python",
   "nbconvert_exporter": "python",
   "pygments_lexer": "ipython3",
   "version": "3.13.0"
  }
 },
 "nbformat": 4,
 "nbformat_minor": 2
}
