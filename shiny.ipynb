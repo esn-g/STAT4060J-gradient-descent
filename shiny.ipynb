{
 "cells": [
  {
   "cell_type": "markdown",
   "metadata": {},
   "source": [
    "## Shiny Dashboard requirement:\n",
    "Use your selected data to create a Shiny app or dashboard that allows users to interact, explore, and better understand the data. You may want to work with the Navigation Bar Page layout or Shiny Dashboard. Both options will neatly structure your app’s user interface; however, these are not the only options.\n",
    "Required app features:\n",
    "1. An information section - what is the data, where did it come from, what is the purpose.\n",
    "Make it clear to users what data they are exploring.\n",
    "2. It should have at least three different input/control widgets.\n",
    "3. It should have at least three different output displays.\n",
    "4. It should be well organized and aesthetically pleasing.\n",
    "5. (optional) Feel free to incorporate at least one derivative shiny package such\n",
    "as shinythemes or shinyalert. There are many more, these are just two examples.\n",
    "Check out Shiny’s gallery for inspiration."
   ]
  },
  {
   "cell_type": "code",
   "execution_count": null,
   "metadata": {},
   "outputs": [
    {
     "ename": "AttributeError",
     "evalue": "module 'shiny.ui' has no attribute 'fluidPage'",
     "output_type": "error",
     "traceback": [
      "\u001b[0;31m---------------------------------------------------------------------------\u001b[0m",
      "\u001b[0;31mAttributeError\u001b[0m                            Traceback (most recent call last)",
      "Cell \u001b[0;32mIn[1], line 16\u001b[0m\n\u001b[1;32m     13\u001b[0m     \u001b[38;5;28;01mreturn\u001b[39;00m pd\u001b[38;5;241m.\u001b[39mDataFrame({\u001b[38;5;124m\"\u001b[39m\u001b[38;5;124mIteration\u001b[39m\u001b[38;5;124m\"\u001b[39m: iterations, \u001b[38;5;124m\"\u001b[39m\u001b[38;5;124mDataset1\u001b[39m\u001b[38;5;124m\"\u001b[39m: accuracy1, \u001b[38;5;124m\"\u001b[39m\u001b[38;5;124mDataset2\u001b[39m\u001b[38;5;124m\"\u001b[39m: accuracy2, \u001b[38;5;124m\"\u001b[39m\u001b[38;5;124mDataset3\u001b[39m\u001b[38;5;124m\"\u001b[39m: accuracy3})\n\u001b[1;32m     15\u001b[0m \u001b[38;5;66;03m# UI definition\u001b[39;00m\n\u001b[0;32m---> 16\u001b[0m app_ui \u001b[38;5;241m=\u001b[39m \u001b[43mui\u001b[49m\u001b[38;5;241;43m.\u001b[39;49m\u001b[43mfluidPage\u001b[49m(\n\u001b[1;32m     17\u001b[0m     ui\u001b[38;5;241m.\u001b[39mh1(\u001b[38;5;124m\"\u001b[39m\u001b[38;5;124mAccuracy Over Iterations\u001b[39m\u001b[38;5;124m\"\u001b[39m),\n\u001b[1;32m     18\u001b[0m     ui\u001b[38;5;241m.\u001b[39mselect_input(\u001b[38;5;124m\"\u001b[39m\u001b[38;5;124mparam_selector\u001b[39m\u001b[38;5;124m\"\u001b[39m, \u001b[38;5;124m\"\u001b[39m\u001b[38;5;124mSelect Parameter:\u001b[39m\u001b[38;5;124m\"\u001b[39m, {\u001b[38;5;124m\"\u001b[39m\u001b[38;5;124m0\u001b[39m\u001b[38;5;124m\"\u001b[39m: \u001b[38;5;241m0\u001b[39m, \u001b[38;5;124m\"\u001b[39m\u001b[38;5;124m1\u001b[39m\u001b[38;5;124m\"\u001b[39m: \u001b[38;5;241m1\u001b[39m, \u001b[38;5;124m\"\u001b[39m\u001b[38;5;124m2\u001b[39m\u001b[38;5;124m\"\u001b[39m: \u001b[38;5;241m2\u001b[39m}, selected\u001b[38;5;241m=\u001b[39m\u001b[38;5;124m\"\u001b[39m\u001b[38;5;124m0\u001b[39m\u001b[38;5;124m\"\u001b[39m),\n\u001b[1;32m     19\u001b[0m     ui\u001b[38;5;241m.\u001b[39moutput_plot(\u001b[38;5;124m\"\u001b[39m\u001b[38;5;124maccuracy_plot\u001b[39m\u001b[38;5;124m\"\u001b[39m)\n\u001b[1;32m     20\u001b[0m )\n\u001b[1;32m     22\u001b[0m \u001b[38;5;66;03m# Server logic\u001b[39;00m\n\u001b[1;32m     23\u001b[0m \u001b[38;5;28;01mdef\u001b[39;00m \u001b[38;5;21mserver\u001b[39m(\u001b[38;5;28minput\u001b[39m, output, session):\n",
      "\u001b[0;31mAttributeError\u001b[0m: module 'shiny.ui' has no attribute 'fluidPage'"
     ]
    }
   ],
   "source": [
    "from shiny import App, ui, render\n",
    "import pandas as pd\n",
    "import numpy as np\n",
    "import matplotlib.pyplot as plt\n",
    "\n",
    "# Simulated data generation for demonstration purposes\n",
    "def generate_data(param):\n",
    "    np.random.seed(42)\n",
    "    iterations = np.arange(1, 101)\n",
    "    accuracy1 = np.sin(iterations / 10) + np.random.normal(0, 0.1, len(iterations)) + param\n",
    "    accuracy2 = np.cos(iterations / 10) + np.random.normal(0, 0.1, len(iterations)) + param\n",
    "    accuracy3 = np.tan(iterations / 50) + np.random.normal(0, 0.1, len(iterations)) + param\n",
    "    return pd.DataFrame({\"Iteration\": iterations, \"Dataset1\": accuracy1, \"Dataset2\": accuracy2, \"Dataset3\": accuracy3})\n",
    "\n",
    "# UI definition\n",
    "app_ui = ui.fluidPage(\n",
    "    ui.h1(\"Accuracy Over Iterations\"),\n",
    "    ui.select_input(\"param_selector\", \"Select Parameter:\", {\"0\": 0, \"1\": 1, \"2\": 2}, selected=\"0\"),\n",
    "    ui.output_plot(\"accuracy_plot\")\n",
    ")\n",
    "\n",
    "# Server logic\n",
    "def server(input, output, session):\n",
    "    @output\n",
    "    @render.plot\n",
    "    def accuracy_plot():\n",
    "        param = int(input.param_selector())\n",
    "        data = generate_data(param)\n",
    "\n",
    "        plt.figure(figsize=(10, 6))\n",
    "        plt.plot(data[\"Iteration\"], data[\"Dataset1\"], label=\"Dataset 1\", linestyle=\"-\", marker=\"o\")\n",
    "        plt.plot(data[\"Iteration\"], data[\"Dataset2\"], label=\"Dataset 2\", linestyle=\"--\", marker=\"x\")\n",
    "        plt.plot(data[\"Iteration\"], data[\"Dataset3\"], label=\"Dataset 3\", linestyle=\"-.\", marker=\"s\")\n",
    "\n",
    "        plt.title(\"Accuracy Over Iterations\")\n",
    "        plt.xlabel(\"Iteration\")\n",
    "        plt.ylabel(\"Accuracy\")\n",
    "        plt.legend()\n",
    "        plt.grid(True)\n",
    "\n",
    "        return plt\n",
    "\n",
    "# Create the app object\n",
    "app = App(app_ui, server)\n",
    "\n",
    "\n"
   ]
  }
 ],
 "metadata": {
  "kernelspec": {
   "display_name": "learning",
   "language": "python",
   "name": "python3"
  },
  "language_info": {
   "codemirror_mode": {
    "name": "ipython",
    "version": 3
   },
   "file_extension": ".py",
   "mimetype": "text/x-python",
   "name": "python",
   "nbconvert_exporter": "python",
   "pygments_lexer": "ipython3",
   "version": "3.13.0"
  }
 },
 "nbformat": 4,
 "nbformat_minor": 2
}
