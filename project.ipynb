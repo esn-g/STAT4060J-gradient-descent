{
 "cells": [
  {
   "cell_type": "code",
   "execution_count": 135,
   "metadata": {},
   "outputs": [],
   "source": [
    "import numpy as np\n",
    "from scipy import linalg\n",
    "import matplotlib.pyplot as plt\n",
    "def logistic(x, y, num_iteration=1000, learning_rate=1e-3):\n",
    "    r, c = x.shape\n",
    "    p = c + 1\n",
    "    X = np.hstack((np.ones((r,1)), x))\n",
    "    beta = 2*np.random.randn(p, 1)-1\n",
    "    for i in range(num_iteration):\n",
    "        pr = sigmoid(X.dot(beta))\n",
    "        beta = beta + learning_rate* X.T.dot(y-pr)\n",
    "    return beta\n",
    "def sigmoid(x):\n",
    "    return 1.0 / (1 + np.exp(-x))\n"
   ]
  },
  {
   "cell_type": "code",
   "execution_count": 136,
   "metadata": {},
   "outputs": [],
   "source": [
    "from sklearn.model_selection import train_test_split\n",
    "np.random.seed(42)\n",
    "from sklearn.datasets import load_breast_cancer\n",
    "data = load_breast_cancer()\n",
    "X = data.data\n",
    "y = data.target.reshape(-1, 1) "
   ]
  },
  {
   "cell_type": "code",
   "execution_count": 137,
   "metadata": {},
   "outputs": [],
   "source": [
    "Xtrain,Xtest,Ytrain,Ytest=train_test_split(X,y,train_size=0.8,random_state=True)"
   ]
  },
  {
   "cell_type": "code",
   "execution_count": 138,
   "metadata": {},
   "outputs": [],
   "source": [
    "from sklearn.preprocessing import StandardScaler\n",
    "scaler = StandardScaler()\n",
    "X_train_scaled = scaler.fit_transform(Xtrain)\n",
    "X_test_scaled = scaler.transform(Xtest)"
   ]
  },
  {
   "cell_type": "code",
   "execution_count": 140,
   "metadata": {},
   "outputs": [
    {
     "name": "stdout",
     "output_type": "stream",
     "text": [
      "Accuracy on test data: 0.98\n"
     ]
    }
   ],
   "source": [
    "def predict(x, beta, threshold=0.5):\n",
    "    X = np.hstack((np.ones((x.shape[0], 1)), x))\n",
    "    probabilities = sigmoid(X.dot(beta))\n",
    "    return (probabilities >= threshold).astype(int)\n",
    "\n",
    "logistic_beta = logistic(X_train_scaled, Ytrain)\n",
    "Ypred = predict(X_test_scaled, logistic_beta)\n",
    "accuracy = np.mean(Ypred == Ytest)\n",
    "print(f\"Accuracy on test data: {accuracy:.2f}\")"
   ]
  }
 ],
 "metadata": {
  "kernelspec": {
   "display_name": "Python 3",
   "language": "python",
   "name": "python3"
  },
  "language_info": {
   "codemirror_mode": {
    "name": "ipython",
    "version": 3
   },
   "file_extension": ".py",
   "mimetype": "text/x-python",
   "name": "python",
   "nbconvert_exporter": "python",
   "pygments_lexer": "ipython3",
   "version": "3.12.0"
  }
 },
 "nbformat": 4,
 "nbformat_minor": 2
}
